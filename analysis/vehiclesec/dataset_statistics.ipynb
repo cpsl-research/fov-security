{
 "cells": [
  {
   "cell_type": "code",
   "execution_count": null,
   "metadata": {},
   "outputs": [],
   "source": [
    "from avapi.carla import CarlaScenesManager\n",
    "from avapi.nuscenes import nuScenesManager\n",
    "from avapi.ugv import UgvScenesManager\n",
    "\n",
    "\n",
    "carla_data_root = \"/data/shared/CARLA/multi-agent-random\"\n",
    "nuscenes_data_root = \"/data/shared/nuScenes\"\n",
    "ugv_data_root = \"/data/shared/ugv/WILK_BASEMENT\"\n",
    "\n",
    "SMs = [\n",
    "    (\"lidar-0\", CarlaScenesManager(data_dir=carla_data_root)),\n",
    "    (\"LIDAR_TOP\", nuScenesManager(data_dir=nuscenes_data_root, split=\"v1.0-trainval\")),\n",
    "    (\"lidar\", UgvScenesManager(data_dir=ugv_data_root)),\n",
    "]"
   ]
  },
  {
   "cell_type": "markdown",
   "metadata": {},
   "source": [
    "For dataset CARLA:\n",
    "\n",
    "TRAIN -- 10 agent, 5 scenes, 5005 frames, 10000 point clouds, 10.0 agents, 6.4555 objects per frame per agent \n",
    "\n",
    "For dataset CARLA:\n",
    "\n",
    "VAL -- 10 agent, 4 scenes, 4004 frames, 8000 point clouds, 10.0 agents, 5.110375 objects per frame per agent\n",
    "\n",
    "For dataset CARLA:\n",
    "\n",
    "TEST -- 10 agent, 1 scenes, 1001 frames, 2000 point clouds, 10.0 agents, 7.145 objects per frame per agent \n",
    "\n",
    "nuscenes\n",
    "\n",
    "TRAIN -- 1 agents, 700 scenes, 27533 frames, 27533 point clouds, 0.9785714285714285 agents, 24.98634366033487 objects per frame per agent \n",
    "\n",
    "For dataset nuScenes:\n",
    "\n",
    "VAL -- 1 agents, 150 scenes, 6019 frames, 6019 point clouds, 1.0 agents, 22.944342914105334 objects per frame per agent "
   ]
  },
  {
   "cell_type": "code",
   "execution_count": null,
   "metadata": {},
   "outputs": [],
   "source": [
    "for lid_sensor, SM in SMs[2:]:\n",
    "    for split in [\"train\", \"val\", \"test\"]:\n",
    "        n_scenes = len(SM.splits_scenes[split])\n",
    "        n_frames = n_pcs = n_agents = n_objs = 0\n",
    "        for scene in SM.splits_scenes[split]:\n",
    "            try:\n",
    "                DM = SM.get_scene_dataset_by_name(scene)\n",
    "            except Exception as e:\n",
    "                print(\"Exception trying this datasets...continuing\")\n",
    "                continue\n",
    "            n_frames += len(DM.frames)\n",
    "            agent_set =  DM.get_agent_set(DM.frames[0])\n",
    "            for agent_ID in agent_set:\n",
    "                n_agents += 1\n",
    "                frames_pc = DM.get_frames(sensor=lid_sensor, agent=agent_ID)\n",
    "                n_pcs += len(frames_pc)\n",
    "                for frame in frames_pc:\n",
    "                    try:\n",
    "                        n_objs += len(\n",
    "                            DM.get_objects(frame=frame, sensor=lid_sensor, agent=agent_ID)\n",
    "                        )\n",
    "                    except FileNotFoundError:\n",
    "                        pass\n",
    "\n",
    "        # print out results\n",
    "        if n_scenes > 0:\n",
    "            print(\n",
    "                f\"For dataset {SM.name}:\\n\"\n",
    "                f\"{split.upper()} -- {len(agent_set)} agents, {n_scenes} scenes, {n_frames} frames, {n_pcs} \"\n",
    "                f\"point clouds, {n_agents/n_scenes} agents, {n_objs / n_pcs} objects per frame per agent \"\n",
    "            )\n",
    "        else:\n",
    "            print(\n",
    "                f\"For dataset {SM.name}:\\n {split.upper()} has no scenes\"\n",
    "            )"
   ]
  },
  {
   "cell_type": "code",
   "execution_count": null,
   "metadata": {},
   "outputs": [],
   "source": []
  }
 ],
 "metadata": {
  "kernelspec": {
   "display_name": "fov-security-pWvESQ_k-py3.10",
   "language": "python",
   "name": "python3"
  },
  "language_info": {
   "codemirror_mode": {
    "name": "ipython",
    "version": 3
   },
   "file_extension": ".py",
   "mimetype": "text/x-python",
   "name": "python",
   "nbconvert_exporter": "python",
   "pygments_lexer": "ipython3",
   "version": "3.10.12"
  }
 },
 "nbformat": 4,
 "nbformat_minor": 2
}
