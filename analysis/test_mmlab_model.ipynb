{
 "cells": [
  {
   "cell_type": "code",
   "execution_count": null,
   "metadata": {},
   "outputs": [],
   "source": [
    "import os\n",
    "import glob\n",
    "\n",
    "\n",
    "data_root = \"/data/shared/cityscapes/leftImg8bit/train/\"\n",
    "assert os.path.exists(data_root)\n",
    "data_subdirs = next(os.walk(data_root))[1]\n",
    "\n",
    "mmdet_root = \"../submodules/lib-avstack-core/third_party/mmdetection\"\n",
    "mmseg_root = \"../submodules/lib-avstack-core/third_party/mmsegmentation\""
   ]
  },
  {
   "cell_type": "markdown",
   "metadata": {},
   "source": [
    "## Show an example from the carla dataset"
   ]
  },
  {
   "cell_type": "code",
   "execution_count": null,
   "metadata": {},
   "outputs": [],
   "source": [
    "def get_sample_image_path():\n",
    "    sample_img_path = glob.glob(os.path.join(data_root, data_subdirs[0], \"*.png\"))[5]\n",
    "    return sample_img_path"
   ]
  },
  {
   "cell_type": "code",
   "execution_count": null,
   "metadata": {},
   "outputs": [],
   "source": [
    "from PIL import Image, ImageOps\n",
    "import cv2\n",
    "import numpy as np\n",
    "\n",
    "sample_img_path = get_sample_image_path()\n",
    "\n",
    "# load image\n",
    "img_in = Image.open(sample_img_path)\n",
    "img_in = ImageOps.exif_transpose(img_in)  # do not transpose automatically\n",
    "bbox = None\n",
    "img_array = np.array(img_in)[:, :, ::-1]\n",
    "\n",
    "# add bounding box to image (x, y, w, h)\n",
    "if bbox is not None:\n",
    "    img = cv2.rectangle(\n",
    "        img_array,\n",
    "        (bbox[0], bbox[1]),\n",
    "        (bbox[0] + bbox[2], bbox[1] + bbox[3]),\n",
    "        color=(255, 0, 0),\n",
    "        thickness=20,\n",
    "    )\n",
    "    img = Image.fromarray(img)\n",
    "else:\n",
    "    img = Image.fromarray(img_array)\n",
    "\n",
    "# scale to a manageable size\n",
    "rescale = True\n",
    "if rescale:\n",
    "    base_width = 600\n",
    "    wpercent = base_width / float(img.size[0])\n",
    "    hsize = int((float(img.size[1]) * float(wpercent)))\n",
    "    img = img.resize((base_width, hsize), Image.BICUBIC)\n",
    "\n",
    "# display the image with jupyter's builtin display\n",
    "display(img)"
   ]
  },
  {
   "cell_type": "markdown",
   "metadata": {},
   "source": [
    "## Test MMSegmentation"
   ]
  },
  {
   "cell_type": "code",
   "execution_count": null,
   "metadata": {},
   "outputs": [],
   "source": [
    "from mmseg.apis import MMSegInferencer\n",
    "\n",
    "sample_img_path = get_sample_image_path()\n",
    "\n",
    "# Choose to use a config\n",
    "cfg = \"deeplabv3plus_r50-d8_4xb2-40k_cityscapes-512x1024\"\n",
    "config = os.path.join(mmseg_root, f\"configs/deeplabv3plus/{cfg}.py\")\n",
    "checkpoint = os.path.join(\n",
    "    mmseg_root,\n",
    "    \"checkpoints/Cityscapes/deeplabv3plus_r50-d8_512x1024_40k_cityscapes_20200605_094610-d222ffcd.pth\",\n",
    ")\n",
    "\n",
    "# Set the device to be used for evaluation\n",
    "device = \"cuda:0\"\n",
    "\n",
    "# Initialize the MMSegInferencer\n",
    "inferencer = MMSegInferencer(model=config, weights=checkpoint, device=device)\n",
    "\n",
    "# Use the detector to do inference\n",
    "result = inferencer(sample_img_path, out_dir=\"./output_mmseg\", show=True)"
   ]
  },
  {
   "cell_type": "markdown",
   "metadata": {},
   "source": [
    "## Test MMDetection"
   ]
  },
  {
   "cell_type": "code",
   "execution_count": null,
   "metadata": {},
   "outputs": [],
   "source": [
    "from mmdet.apis import DetInferencer\n",
    "\n",
    "sample_img_path = get_sample_image_path()\n",
    "\n",
    "# Choose to use a config\n",
    "cfg = \"faster-rcnn_r50_fpn_1x_cityscapes\"\n",
    "config = os.path.join(mmdet_root, f\"configs/cityscapes/{cfg}.py\")\n",
    "checkpoint = os.path.join(\n",
    "    mmdet_root,\n",
    "    \"checkpoints/cityscapes/faster_rcnn_r50_fpn_1x_cityscapes_20200502-829424c0.pth\",\n",
    ")\n",
    "\n",
    "# Set the device to be used for evaluation\n",
    "device = \"cuda:0\"\n",
    "\n",
    "# Initialize the DetInferencer\n",
    "inferencer = DetInferencer(config, checkpoint, device)\n",
    "\n",
    "# Use the detector to do inference\n",
    "result = inferencer(sample_img_path, out_dir=\"./output_mmdet\")"
   ]
  },
  {
   "cell_type": "code",
   "execution_count": null,
   "metadata": {},
   "outputs": [],
   "source": []
  }
 ],
 "metadata": {
  "kernelspec": {
   "display_name": "fov-security-pWvESQ_k-py3.10",
   "language": "python",
   "name": "python3"
  },
  "language_info": {
   "codemirror_mode": {
    "name": "ipython",
    "version": 3
   },
   "file_extension": ".py",
   "mimetype": "text/x-python",
   "name": "python",
   "nbconvert_exporter": "python",
   "pygments_lexer": "ipython3",
   "version": "3.10.12"
  }
 },
 "nbformat": 4,
 "nbformat_minor": 2
}
