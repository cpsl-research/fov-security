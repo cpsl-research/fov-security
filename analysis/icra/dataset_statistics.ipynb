{
 "cells": [
  {
   "cell_type": "code",
   "execution_count": 1,
   "metadata": {},
   "outputs": [
    {
     "name": "stdout",
     "output_type": "stream",
     "text": [
      "Jupyter environment detected. Enabling Open3D WebVisualizer.\n",
      "[Open3D INFO] WebRTC GUI backend enabled.\n",
      "[Open3D INFO] WebRTCWindowSystem: HTTP handshake server disabled.\n"
     ]
    }
   ],
   "source": [
    "from avapi.carla import CarlaScenesManager\n",
    "\n",
    "\n",
    "data_root = \"/data/shared/CARLA/multi-agent-v1\"\n",
    "CSM = CarlaScenesManager(data_dir=data_root)"
   ]
  },
  {
   "cell_type": "code",
   "execution_count": 5,
   "metadata": {},
   "outputs": [
    {
     "name": "stdout",
     "output_type": "stream",
     "text": [
      "TRAIN -- 9 scenes, [   9   18   27 ... 8991 9000 9009] frames, 18000 point clouds, 10.0 agents, 6.563055555555556 objects per frame per agent \n",
      "VAL -- 5 scenes, [   5   10   15 ... 4995 5000 5005] frames, 10000 point clouds, 10.0 agents, 6.1506 objects per frame per agent \n",
      "TEST -- 2 scenes, [   2    4    6 ... 1998 2000 2002] frames, 4000 point clouds, 10.0 agents, 6.16875 objects per frame per agent \n"
     ]
    }
   ],
   "source": [
    "for split in [\"train\", \"val\", \"test\"]:\n",
    "    n_scenes = len(CSM.splits_scenes[split])\n",
    "    n_frames = n_pcs = n_agents = n_objs = 0\n",
    "    for scene in CSM.splits_scenes[split]:\n",
    "        CDM = CSM.get_scene_dataset_by_name(scene)\n",
    "        n_frames += len(CDM.frames)\n",
    "        for agent_ID in CDM.get_agent_set(CDM.frames[0]):\n",
    "            n_agents += 1\n",
    "            frames_pc = CDM.get_frames(sensor=\"lidar-0\", agent=agent_ID)\n",
    "            n_pcs += len(frames_pc)\n",
    "            for frame in frames_pc:\n",
    "                try:\n",
    "                    n_objs += len(\n",
    "                        CDM.get_objects(frame=frame, sensor=\"lidar-0\", agent=agent_ID)\n",
    "                    )\n",
    "                except FileNotFoundError:\n",
    "                    pass\n",
    "\n",
    "    # print out results\n",
    "    print(\n",
    "        f\"{split.upper()} -- {n_scenes} scenes, {n_frames} frames, {n_pcs} \"\n",
    "        f\"point clouds, {n_agents/n_scenes} agents, {n_objs / n_pcs} objects per frame per agent \"\n",
    "    )"
   ]
  },
  {
   "cell_type": "code",
   "execution_count": null,
   "metadata": {},
   "outputs": [],
   "source": []
  }
 ],
 "metadata": {
  "kernelspec": {
   "display_name": "fov-security-pWvESQ_k-py3.10",
   "language": "python",
   "name": "python3"
  },
  "language_info": {
   "codemirror_mode": {
    "name": "ipython",
    "version": 3
   },
   "file_extension": ".py",
   "mimetype": "text/x-python",
   "name": "python",
   "nbconvert_exporter": "python",
   "pygments_lexer": "ipython3",
   "version": "3.10.12"
  }
 },
 "nbformat": 4,
 "nbformat_minor": 2
}
